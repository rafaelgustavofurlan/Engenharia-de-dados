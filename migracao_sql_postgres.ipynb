{
 "cells": [
  {
   "cell_type": "markdown",
   "id": "c8b16e1c",
   "metadata": {},
   "source": [
    "# importando bibliotecas necessarias"
   ]
  },
  {
   "cell_type": "code",
   "execution_count": 11,
   "id": "8655b8b6",
   "metadata": {},
   "outputs": [],
   "source": [
    "import pyodbc\n",
    "import pandas as pd\n",
    "from sqlalchemy import create_engine"
   ]
  },
  {
   "cell_type": "markdown",
   "id": "6a95fc39",
   "metadata": {},
   "source": [
    "# teste de conexao nos bancos de dados"
   ]
  },
  {
   "cell_type": "markdown",
   "id": "b62be45a",
   "metadata": {},
   "source": [
    "# conexão ao MS SQL Server"
   ]
  },
  {
   "cell_type": "code",
   "execution_count": null,
   "id": "067eda92",
   "metadata": {},
   "outputs": [],
   "source": [
    "# Conexão com SQL Server\n",
    "sql_conn = pyodbc.connect(\n",
    "    \"Driver={ODBC Driver 17 for SQL Server};\"\n",
    "    \"Server=<servidor_sql>;\"\n",
    "    \"Database=<banco_de_dados>;\"\n",
    "    \"Trusted_Connection=yes;\"\n",
    ")\n",
    "sql_cursor = sql_conn.cursor()"
   ]
  },
  {
   "cell_type": "markdown",
   "id": "47c67c33",
   "metadata": {},
   "source": [
    "# capturando todas as tabelas do schema DBO"
   ]
  },
  {
   "cell_type": "code",
   "execution_count": 13,
   "id": "99a568a7",
   "metadata": {},
   "outputs": [],
   "source": [
    "# Lista todas as tabelas do esquema dbo\n",
    "sql_cursor.execute(\"\"\"\n",
    "    SELECT TABLE_NAME\n",
    "    FROM INFORMATION_SCHEMA.TABLES\n",
    "    WHERE TABLE_TYPE = 'BASE TABLE' AND TABLE_SCHEMA = 'dbo'\n",
    "\"\"\")\n",
    "tabelas = [row.TABLE_NAME for row in sql_cursor.fetchall()]"
   ]
  },
  {
   "cell_type": "markdown",
   "id": "f6af5eba",
   "metadata": {},
   "source": [
    "# conectando com Postgresql"
   ]
  },
  {
   "cell_type": "code",
   "execution_count": null,
   "id": "bfda7227",
   "metadata": {},
   "outputs": [],
   "source": [
    "# Conexão com PostgreSQL\n",
    "postgres_conn_str = \"postgresql://postgres:<senha_servidor_postgres>@<servidor_postgres>:<porta>/<banco_de_dados>\"\n",
    "pg_engine = create_engine(postgres_conn_str)"
   ]
  },
  {
   "cell_type": "markdown",
   "id": "f34bd7c3",
   "metadata": {},
   "source": [
    "# efetuando carga no Postgresql"
   ]
  },
  {
   "cell_type": "code",
   "execution_count": 15,
   "id": "4e87fb91",
   "metadata": {},
   "outputs": [
    {
     "name": "stderr",
     "output_type": "stream",
     "text": [
      "C:\\Users\\rafae\\AppData\\Local\\Temp\\ipykernel_15996\\2862726889.py:6: UserWarning: pandas only supports SQLAlchemy connectable (engine/connection) or database string URI or sqlite3 DBAPI2 connection. Other DBAPI2 objects are not tested. Please consider using SQLAlchemy.\n",
      "  df = pd.read_sql(query, sql_conn)\n"
     ]
    },
    {
     "name": "stdout",
     "output_type": "stream",
     "text": [
      "Tabela 'DatabaseLog' carregada com sucesso no PostgreSQL.\n",
      "Tabela 'AdventureWorksDWBuildVersion' carregada com sucesso no PostgreSQL.\n",
      "Tabela 'DimAccount' carregada com sucesso no PostgreSQL.\n",
      "Tabela 'DimCurrency' carregada com sucesso no PostgreSQL.\n",
      "Tabela 'DimCustomer' carregada com sucesso no PostgreSQL.\n",
      "Tabela 'DimDate' carregada com sucesso no PostgreSQL.\n",
      "Tabela 'DimDepartmentGroup' carregada com sucesso no PostgreSQL.\n",
      "Tabela 'DimEmployee' carregada com sucesso no PostgreSQL.\n",
      "Tabela 'DimGeography' carregada com sucesso no PostgreSQL.\n",
      "Tabela 'DimOrganization' carregada com sucesso no PostgreSQL.\n",
      "Tabela 'DimProduct' carregada com sucesso no PostgreSQL.\n",
      "Tabela 'DimProductCategory' carregada com sucesso no PostgreSQL.\n",
      "Tabela 'DimProductSubcategory' carregada com sucesso no PostgreSQL.\n",
      "Tabela 'DimPromotion' carregada com sucesso no PostgreSQL.\n",
      "Tabela 'DimReseller' carregada com sucesso no PostgreSQL.\n",
      "Tabela 'DimSalesReason' carregada com sucesso no PostgreSQL.\n",
      "Tabela 'DimSalesTerritory' carregada com sucesso no PostgreSQL.\n",
      "Tabela 'DimScenario' carregada com sucesso no PostgreSQL.\n",
      "Tabela 'FactAdditionalInternationalProductDescription' carregada com sucesso no PostgreSQL.\n",
      "Tabela 'FactCallCenter' carregada com sucesso no PostgreSQL.\n",
      "Tabela 'FactCurrencyRate' carregada com sucesso no PostgreSQL.\n",
      "Tabela 'FactFinance' carregada com sucesso no PostgreSQL.\n",
      "Tabela 'FactInternetSales' carregada com sucesso no PostgreSQL.\n",
      "Tabela 'FactInternetSalesReason' carregada com sucesso no PostgreSQL.\n",
      "Tabela 'FactProductInventory' carregada com sucesso no PostgreSQL.\n",
      "Tabela 'FactResellerSales' carregada com sucesso no PostgreSQL.\n",
      "Tabela 'FactSalesQuota' carregada com sucesso no PostgreSQL.\n",
      "Tabela 'FactSurveyResponse' carregada com sucesso no PostgreSQL.\n",
      "Tabela 'NewFactCurrencyRate' carregada com sucesso no PostgreSQL.\n",
      "Tabela 'ProspectiveBuyer' carregada com sucesso no PostgreSQL.\n",
      "Tabela 'sysdiagrams' carregada com sucesso no PostgreSQL.\n"
     ]
    }
   ],
   "source": [
    "# Itera sobre as tabelas e transfere os dados\n",
    "for tabela in tabelas:\n",
    "    # print(f\"Transferindo tabela: {tabela}\")\n",
    "    query = f\"SELECT * FROM dbo.{tabela}\"\n",
    "    try:\n",
    "        df = pd.read_sql(query, sql_conn)\n",
    "        df.to_sql(\n",
    "            name=tabela,\n",
    "            con=pg_engine,\n",
    "            schema=\"public\",\n",
    "            if_exists=\"replace\",\n",
    "            index=False\n",
    "        )\n",
    "        print(f\"Tabela '{tabela}' carregada com sucesso no PostgreSQL.\")\n",
    "    except Exception as e:\n",
    "        print(f\"Erro ao carregar tabela '{tabela}':\", e)"
   ]
  },
  {
   "cell_type": "code",
   "execution_count": 16,
   "id": "0494d714",
   "metadata": {},
   "outputs": [],
   "source": [
    "# Finaliza conexões\n",
    "sql_conn.close()"
   ]
  }
 ],
 "metadata": {
  "kernelspec": {
   "display_name": "Python 3",
   "language": "python",
   "name": "python3"
  },
  "language_info": {
   "codemirror_mode": {
    "name": "ipython",
    "version": 3
   },
   "file_extension": ".py",
   "mimetype": "text/x-python",
   "name": "python",
   "nbconvert_exporter": "python",
   "pygments_lexer": "ipython3",
   "version": "3.13.7"
  }
 },
 "nbformat": 4,
 "nbformat_minor": 5
}
